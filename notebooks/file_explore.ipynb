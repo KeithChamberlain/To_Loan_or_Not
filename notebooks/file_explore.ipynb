{
 "cells": [
  {
   "cell_type": "markdown",
   "metadata": {},
   "source": [
    "Keith Chamberlain\n",
    "Tue June 8: The wee hours\n",
    "\n",
    "The purpose of this repo is to document the data exploration and analyses of Lending Club data for accepted and rejected loans, provided on Kaggle by [wordsforthewise](https://www.kaggle.com/wordsforthewise). The data span from 2007 to 2018 q4. \n",
    "\n",
    "# Created Repo\n",
    "\n",
    "Generated new repo \"To_Loan_or_Not\" (To Loan... That is the question). Additions made to the .gitignore file to include the /data folder, as well as the jupyter notebooks save files and directory. \n",
    "\n",
    "# Data File Exploration\n",
    "\n",
    "    Lending_Club.zip downloaded to the data folder. Unzipped *accepted_2007_to_2018Q4.csv.gz* (392.6 Mb) and *rejected_2007_to_2018Q4.csv.gz* (255.5 Mb) gzip compressed files totalling 648.1 Mb. This is missleading, as these are compressed files. Uncompressed, as accepted.csv and rejected.csv, these files are 1.68 Gb and 1.78 Gb on this system.\n"
   ]
  },
  {
   "cell_type": "code",
   "execution_count": 1,
   "metadata": {
    "tags": []
   },
   "outputs": [
    {
     "name": "stdout",
     "output_type": "stream",
     "text": [
      "/Users/keithchamberlain/DSI/capstones/To_Loan_or_Not/notebooks\n"
     ]
    }
   ],
   "source": [
    "!pwd"
   ]
  },
  {
   "cell_type": "code",
   "execution_count": 215,
   "metadata": {},
   "outputs": [
    {
     "name": "stdout",
     "output_type": "stream",
     "text": [
      "id,member_id,loan_amnt,funded_amnt,funded_amnt_inv,term,int_rate,installment,grade,sub_grade,emp_title,emp_length,home_ownership,annual_inc,verification_status,issue_d,loan_status,pymnt_plan,url,desc,purpose,title,zip_code,addr_state,dti,delinq_2yrs,earliest_cr_line,fico_range_low,fico_range_high,inq_last_6mths,mths_since_last_delinq,mths_since_last_record,open_acc,pub_rec,revol_bal,revol_util,total_acc,initial_list_status,out_prncp,out_prncp_inv,total_pymnt,total_pymnt_inv,total_rec_prncp,total_rec_int,total_rec_late_fee,recoveries,collection_recovery_fee,last_pymnt_d,last_pymnt_amnt,next_pymnt_d,last_credit_pull_d,last_fico_range_high,last_fico_range_low,collections_12_mths_ex_med,mths_since_last_major_derog,policy_code,application_type,annual_inc_joint,dti_joint,verification_status_joint,acc_now_delinq,tot_coll_amt,tot_cur_bal,open_acc_6m,open_act_il,open_il_12m,open_il_24m,mths_since_rcnt_il,total_bal_il,il_util,open_rv_12m,open_rv_24m,max_bal_bc,all_util,total_rev_hi_lim,inq_fi,total_cu_tl,inq_last_12m,acc_open_past_24mths,avg_cur_bal,bc_open_to_buy,bc_util,chargeoff_within_12_mths,delinq_amnt,mo_sin_old_il_acct,mo_sin_old_rev_tl_op,mo_sin_rcnt_rev_tl_op,mo_sin_rcnt_tl,mort_acc,mths_since_recent_bc,mths_since_recent_bc_dlq,mths_since_recent_inq,mths_since_recent_revol_delinq,num_accts_ever_120_pd,num_actv_bc_tl,num_actv_rev_tl,num_bc_sats,num_bc_tl,num_il_tl,num_op_rev_tl,num_rev_accts,num_rev_tl_bal_gt_0,num_sats,num_tl_120dpd_2m,num_tl_30dpd,num_tl_90g_dpd_24m,num_tl_op_past_12m,pct_tl_nvr_dlq,percent_bc_gt_75,pub_rec_bankruptcies,tax_liens,tot_hi_cred_lim,total_bal_ex_mort,total_bc_limit,total_il_high_credit_limit,revol_bal_joint,sec_app_fico_range_low,sec_app_fico_range_high,sec_app_earliest_cr_line,sec_app_inq_last_6mths,sec_app_mort_acc,sec_app_open_acc,sec_app_revol_util,sec_app_open_act_il,sec_app_num_rev_accts,sec_app_chargeoff_within_12_mths,sec_app_collections_12_mths_ex_med,sec_app_mths_since_last_major_derog,hardship_flag,hardship_type,hardship_reason,hardship_status,deferral_term,hardship_amount,hardship_start_date,hardship_end_date,payment_plan_start_date,hardship_length,hardship_dpd,hardship_loan_status,orig_projected_additional_accrued_interest,hardship_payoff_balance_amount,hardship_last_payment_amount,disbursement_method,debt_settlement_flag,debt_settlement_flag_date,settlement_status,settlement_date,settlement_amount,settlement_percentage,settlement_term\n",
      "68407277,,3600.0,3600.0,3600.0, 36 months,13.99,123.03,C,C4,leadman,10+ years,MORTGAGE,55000.0,Not Verified,Dec-2015,Fully Paid,n,https://lendingclub.com/browse/loanDetail.action?loan_id=68407277,,debt_consolidation,Debt consolidation,190xx,PA,5.91,0.0,Aug-2003,675.0,679.0,1.0,30.0,,7.0,0.0,2765.0,29.7,13.0,w,0.0,0.0,4421.723916800001,4421.72,3600.0,821.72,0.0,0.0,0.0,Jan-2019,122.67,,Mar-2019,564.0,560.0,0.0,30.0,1.0,Individual,,,,0.0,722.0,144904.0,2.0,2.0,0.0,1.0,21.0,4981.0,36.0,3.0,3.0,722.0,34.0,9300.0,3.0,1.0,4.0,4.0,20701.0,1506.0,37.2,0.0,0.0,148.0,128.0,3.0,3.0,1.0,4.0,69.0,4.0,69.0,2.0,2.0,4.0,2.0,5.0,3.0,4.0,9.0,4.0,7.0,0.0,0.0,0.0,3.0,76.9,0.0,0.0,0.0,178050.0,7746.0,2400.0,13734.0,,,,,,,,,,,,,,N,,,,,,,,,,,,,,,Cash,N,,,,,,\n"
     ]
    }
   ],
   "source": [
    "!head -n 2 ../data/accepted.csv"
   ]
  },
  {
   "cell_type": "code",
   "execution_count": 7,
   "metadata": {},
   "outputs": [
    {
     "name": "stdout",
     "output_type": "stream",
     "text": [
      "Amount Requested,Application Date,Loan Title,Risk_Score,Debt-To-Income Ratio,Zip Code,State,Employment Length,Policy Code\n",
      "1000.0,2007-05-26,Wedding Covered but No Honeymoon,693.0,10%,481xx,NM,4 years,0.0\n",
      "1000.0,2007-05-26,Consolidating Debt,703.0,10%,010xx,MA,< 1 year,0.0\n",
      "11000.0,2007-05-27,Want to consolidate my debt,715.0,10%,212xx,MD,1 year,0.0\n"
     ]
    }
   ],
   "source": [
    "!head -n 4 ../data/rejected.csv"
   ]
  },
  {
   "cell_type": "markdown",
   "metadata": {},
   "source": [
    "## Columns status\n",
    "\n",
    "There are major differences between the columns of the two, separate datasets. Most of the columns in the *accepted.csv* data are related to loan status over time, and most of those values are missing. I was hoping to compare more features between the datasets. I don't have a data dictionary, as Lending Club is no longer providing a description of the columns on their website. Right now I can see the following shared between them with Rejected on the left: \n",
    "\n",
    "  - Amout requested | Loand Amount (close enough perhaps?)\n",
    "  - Risk_Score | fico_range_high, fico_range_low (their average?)\n",
    "  - Debt-To-Income Ratio | dti\n",
    "  - Zip Code | zip_code\n",
    "  - State | addr_state\n",
    "  - Employment Length | emp_length\n",
    "  \n",
    "As an alternative to relating the accepted/rejected groups, there are plenty of data in the accepted list to predict who defaulted. In any event, time to import some data in Python!"
   ]
  },
  {
   "cell_type": "code",
   "execution_count": 142,
   "metadata": {},
   "outputs": [],
   "source": [
    "''' Imports '''\n",
    "import numpy as np\n",
    "import pandas as pd\n",
    "import os\n",
    "import timeit as time\n",
    "import matplotlib.pyplot as plt"
   ]
  },
  {
   "cell_type": "code",
   "execution_count": 143,
   "metadata": {},
   "outputs": [
    {
     "name": "stdout",
     "output_type": "stream",
     "text": [
      "/Users/keithchamberlain/DSI/capstones/To_Loan_or_Not/notebooks\n"
     ]
    }
   ],
   "source": [
    "!pwd"
   ]
  },
  {
   "cell_type": "markdown",
   "metadata": {},
   "source": [
    "## Dataset Descriptions\n",
    "\n",
    "These data, as stated, differ in content for each file.\n",
    "\n",
    "### Accepted Loans Data File\n",
    "\n",
    "Accepted.csv is 151 columns x 260,702 rows. Of the 151 column, 113 columns import as numeric automatically. Most of these columns have something to do with the life of the loan rather than the decision to take on the loan in the first place. Most of these column values are `NaN`. These columns could be interesting regarding whether the loanee defaulted over the life of the loan, and whether that could be predicted, however, there is not enough time to assess all of these scenarios. Thus, I will focus on the shared features between the accepted and rejected loans. \n",
    "\n",
    "### Rejected Loans Data File\n",
    "\n",
    "Rejected.csv is 9 columns x 2,260,702 rows. Of the 9 columns, three import as numeric, of which two vary: Amount Requested, and Risk_Score. Debt-to-Income Ratio and Zipcode imported as \"Object\". \n",
    "\n",
    "Debt-to-Income Ratio has a % sign in it. Pandas doesn't coerce that type to numeric, so I'll strip out the % in the OS. The 2 min 13 seconds is time well spent to prevent having to do this during each import with regex and the python engine instead of the C engine (slows things down to minutes instead of 15 s).\n"
   ]
  },
  {
   "cell_type": "code",
   "execution_count": 214,
   "metadata": {},
   "outputs": [
    {
     "name": "stdout",
     "output_type": "stream",
     "text": [
      "/Users/keithchamberlain/DSI/capstones/To_Loan_or_Not/notebooks\n",
      "133.49025585499476\n"
     ]
    }
   ],
   "source": [
    "!pwd\n",
    "t0 = time.default_timer()\n",
    "!cat ../data/rejected.csv | tr -d '[\\%]' > ../data/newrej.csv\n",
    "t1 = time.default_timer() - t0\n",
    "print(t1)"
   ]
  },
  {
   "cell_type": "code",
   "execution_count": 145,
   "metadata": {},
   "outputs": [
    {
     "name": "stdout",
     "output_type": "stream",
     "text": [
      "2.9254004350004834 2260702 27648742\n"
     ]
    }
   ],
   "source": [
    "''' \n",
    "\n",
    "Grab the number of records in each file using the OS commands, then import the data into python. Record the\n",
    "time taken and the number of rows for each dataset. \n",
    "\n",
    "'''\n",
    "t0 = time.default_timer()\n",
    "\n",
    "!wc -l ../data/accepted.csv > ../data/accepted.wc\n",
    "!wc -l ../data/rejected.csv > ../data/rejected.wc\n",
    "acceptedwc = ps.read_csv(\"../data/accepted.wc\", delimiter=\" \", header = None).loc[0,1]\n",
    "rejectedwc = ps.read_csv(\"../data/rejected.wc\", delimiter=\" \", header = None).loc[0,1]\n",
    "t1 = time.default_timer() - t0\n",
    "print(t1, acceptedwc, rejectedwc)"
   ]
  },
  {
   "cell_type": "markdown",
   "metadata": {},
   "source": [
    "## Grab the Headers from the files & Select Needed Columns"
   ]
  },
  {
   "cell_type": "code",
   "execution_count": 241,
   "metadata": {},
   "outputs": [
    {
     "name": "stdout",
     "output_type": "stream",
     "text": [
      "Index(['loan_amnt', 'fico_range_low', 'fico_range_high', 'dti', 'zip_code',\n",
      "       'addr_state', 'emp_length'],\n",
      "      dtype='object')\n",
      "Index(['home_ownership', 'annual_inc', 'verification_status', 'issue_d',\n",
      "       'loan_status', 'pymnt_plan', 'url', 'desc', 'purpose', 'title',\n",
      "       ...\n",
      "       'hardship_payoff_balance_amount', 'hardship_last_payment_amount',\n",
      "       'disbursement_method', 'debt_settlement_flag',\n",
      "       'debt_settlement_flag_date', 'settlement_status', 'settlement_date',\n",
      "       'settlement_amount', 'settlement_percentage', 'settlement_term'],\n",
      "      dtype='object', length=139)\n",
      "Index(['Amount Requested', 'Application Date', 'Loan Title', 'Risk_Score',\n",
      "       'Debt-To-Income Ratio', 'Zip Code', 'State', 'Employment Length',\n",
      "       'Policy Code'],\n",
      "      dtype='object')\n",
      "Index(['Amount Requested', 'Risk_Score', 'Debt-To-Income Ratio', 'Zip Code',\n",
      "       'State', 'Employment Length'],\n",
      "      dtype='object')\n"
     ]
    }
   ],
   "source": [
    "''' Grab the number of columns in each file '''\n",
    "\n",
    "accept_header = ps.read_csv(\"../data/accepted.csv\", delimiter=\",\", nrows=0)\n",
    "reject_header = ps.read_csv(\"../data/rejected.csv\", delimiter=\",\", nrows=0)\n",
    "print(accept_header.columns[[2, 27, 28, 24, 22, 23, 11]])\n",
    "print(accept_header.columns[12:])\n",
    "print(reject_header.columns)\n",
    "print(reject_header.columns[[0, 3, 4, 5, 6, 7]])"
   ]
  },
  {
   "cell_type": "code",
   "execution_count": 228,
   "metadata": {},
   "outputs": [
    {
     "name": "stdout",
     "output_type": "stream",
     "text": [
      "0    293xx\n",
      "1    786xx\n",
      "2    275xx\n",
      "3    117xx\n",
      "4    125xx\n",
      "5    880xx\n",
      "6    114xx\n",
      "7    215xx\n",
      "8    710xx\n",
      "9    331xx\n",
      "Name: zip_code, dtype: object\n",
      "0    559xx\n",
      "1    457xx\n",
      "2    630xx\n",
      "3    953xx\n",
      "4    681xx\n",
      "5    301xx\n",
      "6    434xx\n",
      "7    104xx\n",
      "8    972xx\n",
      "9    334xx\n",
      "Name: Zip Code, dtype: object\n"
     ]
    }
   ],
   "source": [
    "print(accepted_data['zip_code'])\n",
    "print(rejected_data['Zip Code'])"
   ]
  },
  {
   "cell_type": "markdown",
   "metadata": {},
   "source": [
    "## n% Random Sample\n",
    "\n",
    "To start, we will be taking a 0.1% random sample of each of the 1.68, and 1.78 Gb files in order to work with something in memory within reasonable time frames. The row 0 (headers) needs to be ensured to be a part of that set, so the header does not get mixed up with the data and throw off the data types. \n",
    "\n",
    "In order to take a 0.1% random sample, I will *skip* a 0.9% random sample of rows. "
   ]
  },
  {
   "cell_type": "code",
   "execution_count": 203,
   "metadata": {},
   "outputs": [
    {
     "name": "stdout",
     "output_type": "stream",
     "text": [
      "1.7130328040002496 32.1895744229987\n"
     ]
    }
   ],
   "source": [
    "''' Import the files and work with a random sample '''\n",
    "\n",
    "rndm = np.random.default_rng()\n",
    "pct_rnd_sample = 0.1\n",
    "    #skip = sorted(random.sample(range(n),n-s))\n",
    "    #df = pandas.read_csv(filename, skiprows=skip)\n",
    "t0 = time.default_timer()\n",
    "accepted_skip = sorted(rndm.choice(a = acceptedwc, size = acceptedwc - int(pct_rnd_sample*acceptedwc), \n",
    "                                   replace=False))\n",
    "t1 = (time.default_timer(), time.default_timer()-t0)\n",
    "rejected_skip = sorted(rndm.choice(a = rejectedwc, size = rejectedwc - int(pct_rnd_sample*rejectedwc), \n",
    "                                   replace=False))\n",
    "t2 = time.default_timer() - t1[0]\n",
    "print(t1[1], t2)"
   ]
  },
  {
   "cell_type": "markdown",
   "metadata": {},
   "source": [
    "### Ensure Row 0 is Always Skipped"
   ]
  },
  {
   "cell_type": "code",
   "execution_count": 204,
   "metadata": {},
   "outputs": [],
   "source": [
    "accepted_skip2 = [0]\n",
    "rejected_skip2 = [0]\n",
    "if not 0 in accepted_skip:\n",
    "    accepted_skip2.extend(list(accpted_skip))\n",
    "    accepted_skip = np.array(accepted_skip2)\n",
    "if not 0 in rejected_skip:\n",
    "    rejected_skip2.extend(list(rejected_skip))\n",
    "    rejected_skip = np.array(rejected_skip2)"
   ]
  },
  {
   "cell_type": "code",
   "execution_count": 207,
   "metadata": {},
   "outputs": [
    {
     "name": "stdout",
     "output_type": "stream",
     "text": [
      "0.9535314949971507\n"
     ]
    }
   ],
   "source": [
    "'''\n",
    "Do the import!!! Using python engine due to complex regex delimiter (to get rid of % sign in one of the fields)\n",
    "\n",
    "'''\n",
    "t0 = time.default_timer()\n",
    "accepted_data = pd.read_csv(\"../data/accepted.csv\", delimiter=\",\", header = None, skiprows=accepted_skip, \n",
    "                            names=accept_header.columns, low_memory=False, nrows=10)\n",
    "t1 = time.default_timer() - t0\n",
    "print(t1)"
   ]
  },
  {
   "cell_type": "code",
   "execution_count": 208,
   "metadata": {},
   "outputs": [
    {
     "name": "stdout",
     "output_type": "stream",
     "text": [
      "5.5132277099983185\n"
     ]
    }
   ],
   "source": [
    "'''\n",
    "Do the import!!!\n",
    "\n",
    "'''\n",
    "t0 = time.default_timer()\n",
    "rejected_data = pd.read_csv(\"../data/newrej.csv\", delimiter=\",\", header = None, skiprows=rejected_skip, \n",
    "                            names=reject_header.columns, low_memory=False, nrows=10)\n",
    "t1 = time.default_timer() - t0\n",
    "print(t1)"
   ]
  },
  {
   "cell_type": "code",
   "execution_count": 209,
   "metadata": {},
   "outputs": [
    {
     "name": "stdout",
     "output_type": "stream",
     "text": [
      "<class 'pandas.core.frame.DataFrame'>\n",
      "RangeIndex: 10 entries, 0 to 9\n",
      "Columns: 151 entries, id to settlement_term\n",
      "dtypes: float64(126), int64(1), object(24)\n",
      "memory usage: 11.9+ KB\n"
     ]
    }
   ],
   "source": [
    "accepted_data.info()"
   ]
  },
  {
   "cell_type": "code",
   "execution_count": 210,
   "metadata": {},
   "outputs": [
    {
     "name": "stdout",
     "output_type": "stream",
     "text": [
      "<class 'pandas.core.frame.DataFrame'>\n",
      "RangeIndex: 10 entries, 0 to 9\n",
      "Data columns (total 9 columns):\n",
      " #   Column                Non-Null Count  Dtype  \n",
      "---  ------                --------------  -----  \n",
      " 0   Amount Requested      10 non-null     float64\n",
      " 1   Application Date      10 non-null     object \n",
      " 2   Loan Title            10 non-null     object \n",
      " 3   Risk_Score            10 non-null     float64\n",
      " 4   Debt-To-Income Ratio  10 non-null     object \n",
      " 5   Zip Code              10 non-null     object \n",
      " 6   State                 10 non-null     object \n",
      " 7   Employment Length     10 non-null     object \n",
      " 8   Policy Code           10 non-null     float64\n",
      "dtypes: float64(3), object(6)\n",
      "memory usage: 848.0+ bytes\n"
     ]
    }
   ],
   "source": [
    "rejected_data.info()"
   ]
  },
  {
   "cell_type": "code",
   "execution_count": 212,
   "metadata": {},
   "outputs": [
    {
     "data": {
      "text/html": [
       "<div>\n",
       "<style scoped>\n",
       "    .dataframe tbody tr th:only-of-type {\n",
       "        vertical-align: middle;\n",
       "    }\n",
       "\n",
       "    .dataframe tbody tr th {\n",
       "        vertical-align: top;\n",
       "    }\n",
       "\n",
       "    .dataframe thead th {\n",
       "        text-align: right;\n",
       "    }\n",
       "</style>\n",
       "<table border=\"1\" class=\"dataframe\">\n",
       "  <thead>\n",
       "    <tr style=\"text-align: right;\">\n",
       "      <th></th>\n",
       "      <th>id</th>\n",
       "      <th>member_id</th>\n",
       "      <th>loan_amnt</th>\n",
       "      <th>funded_amnt</th>\n",
       "      <th>funded_amnt_inv</th>\n",
       "      <th>int_rate</th>\n",
       "      <th>installment</th>\n",
       "      <th>annual_inc</th>\n",
       "      <th>desc</th>\n",
       "      <th>dti</th>\n",
       "      <th>...</th>\n",
       "      <th>hardship_loan_status</th>\n",
       "      <th>orig_projected_additional_accrued_interest</th>\n",
       "      <th>hardship_payoff_balance_amount</th>\n",
       "      <th>hardship_last_payment_amount</th>\n",
       "      <th>debt_settlement_flag_date</th>\n",
       "      <th>settlement_status</th>\n",
       "      <th>settlement_date</th>\n",
       "      <th>settlement_amount</th>\n",
       "      <th>settlement_percentage</th>\n",
       "      <th>settlement_term</th>\n",
       "    </tr>\n",
       "  </thead>\n",
       "  <tbody>\n",
       "    <tr>\n",
       "      <th>count</th>\n",
       "      <td>1.000000e+01</td>\n",
       "      <td>0.0</td>\n",
       "      <td>10.00000</td>\n",
       "      <td>10.00000</td>\n",
       "      <td>10.00000</td>\n",
       "      <td>10.000000</td>\n",
       "      <td>10.000000</td>\n",
       "      <td>10.000000</td>\n",
       "      <td>0.0</td>\n",
       "      <td>10.000000</td>\n",
       "      <td>...</td>\n",
       "      <td>0.0</td>\n",
       "      <td>0.0</td>\n",
       "      <td>0.0</td>\n",
       "      <td>0.0</td>\n",
       "      <td>0.0</td>\n",
       "      <td>0.0</td>\n",
       "      <td>0.0</td>\n",
       "      <td>0.0</td>\n",
       "      <td>0.0</td>\n",
       "      <td>0.0</td>\n",
       "    </tr>\n",
       "    <tr>\n",
       "      <th>mean</th>\n",
       "      <td>6.833433e+07</td>\n",
       "      <td>NaN</td>\n",
       "      <td>17515.00000</td>\n",
       "      <td>17515.00000</td>\n",
       "      <td>17515.00000</td>\n",
       "      <td>12.838000</td>\n",
       "      <td>479.321000</td>\n",
       "      <td>85600.000000</td>\n",
       "      <td>NaN</td>\n",
       "      <td>20.232000</td>\n",
       "      <td>...</td>\n",
       "      <td>NaN</td>\n",
       "      <td>NaN</td>\n",
       "      <td>NaN</td>\n",
       "      <td>NaN</td>\n",
       "      <td>NaN</td>\n",
       "      <td>NaN</td>\n",
       "      <td>NaN</td>\n",
       "      <td>NaN</td>\n",
       "      <td>NaN</td>\n",
       "      <td>NaN</td>\n",
       "    </tr>\n",
       "    <tr>\n",
       "      <th>std</th>\n",
       "      <td>3.805503e+05</td>\n",
       "      <td>NaN</td>\n",
       "      <td>7947.88756</td>\n",
       "      <td>7947.88756</td>\n",
       "      <td>7947.88756</td>\n",
       "      <td>5.695251</td>\n",
       "      <td>221.227373</td>\n",
       "      <td>41069.588641</td>\n",
       "      <td>NaN</td>\n",
       "      <td>7.553098</td>\n",
       "      <td>...</td>\n",
       "      <td>NaN</td>\n",
       "      <td>NaN</td>\n",
       "      <td>NaN</td>\n",
       "      <td>NaN</td>\n",
       "      <td>NaN</td>\n",
       "      <td>NaN</td>\n",
       "      <td>NaN</td>\n",
       "      <td>NaN</td>\n",
       "      <td>NaN</td>\n",
       "      <td>NaN</td>\n",
       "    </tr>\n",
       "    <tr>\n",
       "      <th>min</th>\n",
       "      <td>6.727548e+07</td>\n",
       "      <td>NaN</td>\n",
       "      <td>1400.00000</td>\n",
       "      <td>1400.00000</td>\n",
       "      <td>1400.00000</td>\n",
       "      <td>5.320000</td>\n",
       "      <td>47.100000</td>\n",
       "      <td>59000.000000</td>\n",
       "      <td>NaN</td>\n",
       "      <td>6.790000</td>\n",
       "      <td>...</td>\n",
       "      <td>NaN</td>\n",
       "      <td>NaN</td>\n",
       "      <td>NaN</td>\n",
       "      <td>NaN</td>\n",
       "      <td>NaN</td>\n",
       "      <td>NaN</td>\n",
       "      <td>NaN</td>\n",
       "      <td>NaN</td>\n",
       "      <td>NaN</td>\n",
       "      <td>NaN</td>\n",
       "    </tr>\n",
       "    <tr>\n",
       "      <th>25%</th>\n",
       "      <td>6.835817e+07</td>\n",
       "      <td>NaN</td>\n",
       "      <td>16000.00000</td>\n",
       "      <td>16000.00000</td>\n",
       "      <td>16000.00000</td>\n",
       "      <td>8.490000</td>\n",
       "      <td>373.812500</td>\n",
       "      <td>64250.000000</td>\n",
       "      <td>NaN</td>\n",
       "      <td>17.777500</td>\n",
       "      <td>...</td>\n",
       "      <td>NaN</td>\n",
       "      <td>NaN</td>\n",
       "      <td>NaN</td>\n",
       "      <td>NaN</td>\n",
       "      <td>NaN</td>\n",
       "      <td>NaN</td>\n",
       "      <td>NaN</td>\n",
       "      <td>NaN</td>\n",
       "      <td>NaN</td>\n",
       "      <td>NaN</td>\n",
       "    </tr>\n",
       "    <tr>\n",
       "      <th>50%</th>\n",
       "      <td>6.843666e+07</td>\n",
       "      <td>NaN</td>\n",
       "      <td>20000.00000</td>\n",
       "      <td>20000.00000</td>\n",
       "      <td>20000.00000</td>\n",
       "      <td>12.880000</td>\n",
       "      <td>537.035000</td>\n",
       "      <td>70000.000000</td>\n",
       "      <td>NaN</td>\n",
       "      <td>19.835000</td>\n",
       "      <td>...</td>\n",
       "      <td>NaN</td>\n",
       "      <td>NaN</td>\n",
       "      <td>NaN</td>\n",
       "      <td>NaN</td>\n",
       "      <td>NaN</td>\n",
       "      <td>NaN</td>\n",
       "      <td>NaN</td>\n",
       "      <td>NaN</td>\n",
       "      <td>NaN</td>\n",
       "      <td>NaN</td>\n",
       "    </tr>\n",
       "    <tr>\n",
       "      <th>75%</th>\n",
       "      <td>6.849927e+07</td>\n",
       "      <td>NaN</td>\n",
       "      <td>22250.00000</td>\n",
       "      <td>22250.00000</td>\n",
       "      <td>22250.00000</td>\n",
       "      <td>15.540000</td>\n",
       "      <td>646.860000</td>\n",
       "      <td>82500.000000</td>\n",
       "      <td>NaN</td>\n",
       "      <td>23.065000</td>\n",
       "      <td>...</td>\n",
       "      <td>NaN</td>\n",
       "      <td>NaN</td>\n",
       "      <td>NaN</td>\n",
       "      <td>NaN</td>\n",
       "      <td>NaN</td>\n",
       "      <td>NaN</td>\n",
       "      <td>NaN</td>\n",
       "      <td>NaN</td>\n",
       "      <td>NaN</td>\n",
       "      <td>NaN</td>\n",
       "    </tr>\n",
       "    <tr>\n",
       "      <th>max</th>\n",
       "      <td>6.859618e+07</td>\n",
       "      <td>NaN</td>\n",
       "      <td>27500.00000</td>\n",
       "      <td>27500.00000</td>\n",
       "      <td>27500.00000</td>\n",
       "      <td>24.240000</td>\n",
       "      <td>701.010000</td>\n",
       "      <td>195000.000000</td>\n",
       "      <td>NaN</td>\n",
       "      <td>34.950000</td>\n",
       "      <td>...</td>\n",
       "      <td>NaN</td>\n",
       "      <td>NaN</td>\n",
       "      <td>NaN</td>\n",
       "      <td>NaN</td>\n",
       "      <td>NaN</td>\n",
       "      <td>NaN</td>\n",
       "      <td>NaN</td>\n",
       "      <td>NaN</td>\n",
       "      <td>NaN</td>\n",
       "      <td>NaN</td>\n",
       "    </tr>\n",
       "  </tbody>\n",
       "</table>\n",
       "<p>8 rows × 127 columns</p>\n",
       "</div>"
      ],
      "text/plain": [
       "                 id  member_id    loan_amnt  funded_amnt  funded_amnt_inv  \\\n",
       "count  1.000000e+01        0.0     10.00000     10.00000         10.00000   \n",
       "mean   6.833433e+07        NaN  17515.00000  17515.00000      17515.00000   \n",
       "std    3.805503e+05        NaN   7947.88756   7947.88756       7947.88756   \n",
       "min    6.727548e+07        NaN   1400.00000   1400.00000       1400.00000   \n",
       "25%    6.835817e+07        NaN  16000.00000  16000.00000      16000.00000   \n",
       "50%    6.843666e+07        NaN  20000.00000  20000.00000      20000.00000   \n",
       "75%    6.849927e+07        NaN  22250.00000  22250.00000      22250.00000   \n",
       "max    6.859618e+07        NaN  27500.00000  27500.00000      27500.00000   \n",
       "\n",
       "        int_rate  installment     annual_inc  desc        dti  ...  \\\n",
       "count  10.000000    10.000000      10.000000   0.0  10.000000  ...   \n",
       "mean   12.838000   479.321000   85600.000000   NaN  20.232000  ...   \n",
       "std     5.695251   221.227373   41069.588641   NaN   7.553098  ...   \n",
       "min     5.320000    47.100000   59000.000000   NaN   6.790000  ...   \n",
       "25%     8.490000   373.812500   64250.000000   NaN  17.777500  ...   \n",
       "50%    12.880000   537.035000   70000.000000   NaN  19.835000  ...   \n",
       "75%    15.540000   646.860000   82500.000000   NaN  23.065000  ...   \n",
       "max    24.240000   701.010000  195000.000000   NaN  34.950000  ...   \n",
       "\n",
       "       hardship_loan_status  orig_projected_additional_accrued_interest  \\\n",
       "count                   0.0                                         0.0   \n",
       "mean                    NaN                                         NaN   \n",
       "std                     NaN                                         NaN   \n",
       "min                     NaN                                         NaN   \n",
       "25%                     NaN                                         NaN   \n",
       "50%                     NaN                                         NaN   \n",
       "75%                     NaN                                         NaN   \n",
       "max                     NaN                                         NaN   \n",
       "\n",
       "       hardship_payoff_balance_amount  hardship_last_payment_amount  \\\n",
       "count                             0.0                           0.0   \n",
       "mean                              NaN                           NaN   \n",
       "std                               NaN                           NaN   \n",
       "min                               NaN                           NaN   \n",
       "25%                               NaN                           NaN   \n",
       "50%                               NaN                           NaN   \n",
       "75%                               NaN                           NaN   \n",
       "max                               NaN                           NaN   \n",
       "\n",
       "       debt_settlement_flag_date  settlement_status  settlement_date  \\\n",
       "count                        0.0                0.0              0.0   \n",
       "mean                         NaN                NaN              NaN   \n",
       "std                          NaN                NaN              NaN   \n",
       "min                          NaN                NaN              NaN   \n",
       "25%                          NaN                NaN              NaN   \n",
       "50%                          NaN                NaN              NaN   \n",
       "75%                          NaN                NaN              NaN   \n",
       "max                          NaN                NaN              NaN   \n",
       "\n",
       "       settlement_amount  settlement_percentage  settlement_term  \n",
       "count                0.0                    0.0              0.0  \n",
       "mean                 NaN                    NaN              NaN  \n",
       "std                  NaN                    NaN              NaN  \n",
       "min                  NaN                    NaN              NaN  \n",
       "25%                  NaN                    NaN              NaN  \n",
       "50%                  NaN                    NaN              NaN  \n",
       "75%                  NaN                    NaN              NaN  \n",
       "max                  NaN                    NaN              NaN  \n",
       "\n",
       "[8 rows x 127 columns]"
      ]
     },
     "execution_count": 212,
     "metadata": {},
     "output_type": "execute_result"
    }
   ],
   "source": [
    "accepted_data.describe()"
   ]
  },
  {
   "cell_type": "code",
   "execution_count": 159,
   "metadata": {},
   "outputs": [
    {
     "data": {
      "text/html": [
       "<div>\n",
       "<style scoped>\n",
       "    .dataframe tbody tr th:only-of-type {\n",
       "        vertical-align: middle;\n",
       "    }\n",
       "\n",
       "    .dataframe tbody tr th {\n",
       "        vertical-align: top;\n",
       "    }\n",
       "\n",
       "    .dataframe thead th {\n",
       "        text-align: right;\n",
       "    }\n",
       "</style>\n",
       "<table border=\"1\" class=\"dataframe\">\n",
       "  <thead>\n",
       "    <tr style=\"text-align: right;\">\n",
       "      <th></th>\n",
       "      <th>Amount Requested</th>\n",
       "      <th>Risk_Score</th>\n",
       "      <th>Policy Code</th>\n",
       "    </tr>\n",
       "  </thead>\n",
       "  <tbody>\n",
       "    <tr>\n",
       "      <th>count</th>\n",
       "      <td>2.764873e+06</td>\n",
       "      <td>915339.000000</td>\n",
       "      <td>2.764784e+06</td>\n",
       "    </tr>\n",
       "    <tr>\n",
       "      <th>mean</th>\n",
       "      <td>1.313157e+04</td>\n",
       "      <td>628.346141</td>\n",
       "      <td>6.320928e-03</td>\n",
       "    </tr>\n",
       "    <tr>\n",
       "      <th>std</th>\n",
       "      <td>1.498862e+04</td>\n",
       "      <td>89.567166</td>\n",
       "      <td>1.122582e-01</td>\n",
       "    </tr>\n",
       "    <tr>\n",
       "      <th>min</th>\n",
       "      <td>0.000000e+00</td>\n",
       "      <td>0.000000</td>\n",
       "      <td>0.000000e+00</td>\n",
       "    </tr>\n",
       "    <tr>\n",
       "      <th>25%</th>\n",
       "      <td>5.000000e+03</td>\n",
       "      <td>591.000000</td>\n",
       "      <td>0.000000e+00</td>\n",
       "    </tr>\n",
       "    <tr>\n",
       "      <th>50%</th>\n",
       "      <td>1.000000e+04</td>\n",
       "      <td>637.000000</td>\n",
       "      <td>0.000000e+00</td>\n",
       "    </tr>\n",
       "    <tr>\n",
       "      <th>75%</th>\n",
       "      <td>2.000000e+04</td>\n",
       "      <td>675.000000</td>\n",
       "      <td>0.000000e+00</td>\n",
       "    </tr>\n",
       "    <tr>\n",
       "      <th>max</th>\n",
       "      <td>1.200000e+06</td>\n",
       "      <td>990.000000</td>\n",
       "      <td>2.000000e+00</td>\n",
       "    </tr>\n",
       "  </tbody>\n",
       "</table>\n",
       "</div>"
      ],
      "text/plain": [
       "       Amount Requested     Risk_Score   Policy Code\n",
       "count      2.764873e+06  915339.000000  2.764784e+06\n",
       "mean       1.313157e+04     628.346141  6.320928e-03\n",
       "std        1.498862e+04      89.567166  1.122582e-01\n",
       "min        0.000000e+00       0.000000  0.000000e+00\n",
       "25%        5.000000e+03     591.000000  0.000000e+00\n",
       "50%        1.000000e+04     637.000000  0.000000e+00\n",
       "75%        2.000000e+04     675.000000  0.000000e+00\n",
       "max        1.200000e+06     990.000000  2.000000e+00"
      ]
     },
     "execution_count": 159,
     "metadata": {},
     "output_type": "execute_result"
    }
   ],
   "source": [
    "rejected_data.describe()"
   ]
  },
  {
   "cell_type": "code",
   "execution_count": null,
   "metadata": {},
   "outputs": [],
   "source": []
  },
  {
   "cell_type": "code",
   "execution_count": 213,
   "metadata": {},
   "outputs": [
    {
     "name": "stdout",
     "output_type": "stream",
     "text": [
      "/Users/keithchamberlain/DSI/capstones/To_Loan_or_Not/notebooks\n"
     ]
    }
   ],
   "source": []
  },
  {
   "cell_type": "code",
   "execution_count": null,
   "metadata": {},
   "outputs": [],
   "source": []
  }
 ],
 "metadata": {
  "kernelspec": {
   "display_name": "Python 3",
   "language": "python",
   "name": "python3"
  },
  "language_info": {
   "codemirror_mode": {
    "name": "ipython",
    "version": 3
   },
   "file_extension": ".py",
   "mimetype": "text/x-python",
   "name": "python",
   "nbconvert_exporter": "python",
   "pygments_lexer": "ipython3",
   "version": "3.8.8"
  }
 },
 "nbformat": 4,
 "nbformat_minor": 4
}
